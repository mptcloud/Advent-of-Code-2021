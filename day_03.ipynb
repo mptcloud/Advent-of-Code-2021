{
 "cells": [
  {
   "cell_type": "code",
   "execution_count": 1,
   "metadata": {},
   "outputs": [],
   "source": [
    "from pathlib import Path"
   ]
  },
  {
   "cell_type": "code",
   "execution_count": 2,
   "metadata": {},
   "outputs": [],
   "source": [
    "data_path = Path.cwd() / 'data' / 'day3_input.txt'"
   ]
  },
  {
   "cell_type": "code",
   "execution_count": 3,
   "metadata": {},
   "outputs": [
    {
     "data": {
      "text/plain": [
       "True"
      ]
     },
     "execution_count": 3,
     "metadata": {},
     "output_type": "execute_result"
    }
   ],
   "source": [
    "data_path.exists()"
   ]
  },
  {
   "cell_type": "markdown",
   "metadata": {},
   "source": [
    "#### Part 1"
   ]
  },
  {
   "cell_type": "markdown",
   "metadata": {},
   "source": [
    "Trying a `csv reader` approach."
   ]
  },
  {
   "cell_type": "code",
   "execution_count": 4,
   "metadata": {},
   "outputs": [],
   "source": [
    "import csv\n",
    "\n",
    "from typing import TextIO\n",
    "from collections.abc import Iterator\n",
    "from collections import Counter"
   ]
  },
  {
   "cell_type": "code",
   "execution_count": 5,
   "metadata": {},
   "outputs": [],
   "source": [
    "def row_iter(source: TextIO) -> Iterator[list[str]]:\n",
    "    return csv.reader(source, delimiter='\\t')"
   ]
  },
  {
   "cell_type": "code",
   "execution_count": 58,
   "metadata": {},
   "outputs": [],
   "source": [
    "with open(data_path, 'r') as file:\n",
    "    list_of_binary_strings: list[str] = [item for sublist in row_iter(file) for item in sublist]\n",
    "\n",
    "transposed_list: list[str] = [''.join(row) for row in zip(*list_of_binary_strings)]"
   ]
  },
  {
   "cell_type": "code",
   "execution_count": 7,
   "metadata": {},
   "outputs": [],
   "source": [
    "string_of_most_common_digits: str = ''.join(\n",
    "    Counter(string_of_digits).most_common(1)[0][0] for string_of_digits in transposed_list\n",
    ")\n",
    "\n",
    "gamma_rate: int = int(string_of_most_common_digits, 2)\n",
    "\n",
    "epsilon_rate: int = int(\n",
    "    ''.join('1' if char == '0' else '0' for char in string_of_most_common_digits), 2\n",
    ")"
   ]
  },
  {
   "cell_type": "code",
   "execution_count": 8,
   "metadata": {},
   "outputs": [
    {
     "data": {
      "text/plain": [
       "3875"
      ]
     },
     "execution_count": 8,
     "metadata": {},
     "output_type": "execute_result"
    }
   ],
   "source": [
    "gamma_rate"
   ]
  },
  {
   "cell_type": "code",
   "execution_count": 9,
   "metadata": {},
   "outputs": [
    {
     "data": {
      "text/plain": [
       "220"
      ]
     },
     "execution_count": 9,
     "metadata": {},
     "output_type": "execute_result"
    }
   ],
   "source": [
    "epsilon_rate"
   ]
  },
  {
   "cell_type": "code",
   "execution_count": 10,
   "metadata": {},
   "outputs": [
    {
     "data": {
      "text/plain": [
       "852500"
      ]
     },
     "execution_count": 10,
     "metadata": {},
     "output_type": "execute_result"
    }
   ],
   "source": [
    "gamma_rate * epsilon_rate"
   ]
  },
  {
   "cell_type": "markdown",
   "metadata": {},
   "source": [
    "#### Part 2"
   ]
  },
  {
   "cell_type": "code",
   "execution_count": 45,
   "metadata": {},
   "outputs": [],
   "source": [
    "from functools import partial\n",
    "\n",
    "def _get_ith_character(string: str, position: int) -> str:\n",
    "    return string[position]\n",
    "\n",
    "def _has_character_in_position(string: str, character:str, position: int) -> bool:\n",
    "    return string[position] == character"
   ]
  },
  {
   "cell_type": "code",
   "execution_count": 73,
   "metadata": {},
   "outputs": [
    {
     "data": {
      "text/plain": [
       "2235"
      ]
     },
     "execution_count": 73,
     "metadata": {},
     "output_type": "execute_result"
    }
   ],
   "source": [
    "filtered_binaries:list[str] = list_of_binary_strings\n",
    "string_index: int = 0\n",
    "\n",
    "while len(filtered_binaries) > 1:\n",
    "    most_common_char: str = sorted(\n",
    "        Counter(\n",
    "            map(\n",
    "                partial(_get_ith_character, position=string_index), \n",
    "                filtered_binaries\n",
    "            )\n",
    "        ).most_common()[:2], \n",
    "        key=lambda x: (-x[1], -int(x[0]))\n",
    "    )[0][0]\n",
    "\n",
    "    filtered_binaries = list(\n",
    "        filter(\n",
    "            partial(_has_character_in_position, character=most_common_char, position=string_index),\n",
    "            filtered_binaries\n",
    "        )\n",
    "    )\n",
    "\n",
    "    string_index += 1\n",
    "\n",
    "oxygen_generator_rating = int(filtered_binaries[0], 2)\n",
    "\n",
    "oxygen_generator_rating"
   ]
  },
  {
   "cell_type": "code",
   "execution_count": 82,
   "metadata": {},
   "outputs": [
    {
     "data": {
      "text/plain": [
       "451"
      ]
     },
     "execution_count": 82,
     "metadata": {},
     "output_type": "execute_result"
    }
   ],
   "source": [
    "filtered_binaries:list[str] = list_of_binary_strings\n",
    "string_index: int = 0\n",
    "\n",
    "while len(filtered_binaries) > 1:\n",
    "    least_common_char: str = sorted(\n",
    "        Counter(\n",
    "            map(\n",
    "                partial(_get_ith_character, position=string_index), \n",
    "                filtered_binaries\n",
    "            )\n",
    "        ).most_common()[:-2:-1], \n",
    "        key=lambda x: (x[1], int(x[0]))\n",
    "    )[0][0]\n",
    "\n",
    "    filtered_binaries = list(\n",
    "        filter(\n",
    "            partial(_has_character_in_position, character=least_common_char, position=string_index),\n",
    "            filtered_binaries\n",
    "        )\n",
    "    )\n",
    "\n",
    "    string_index += 1\n",
    "\n",
    "co2_scrubber_rating = int(filtered_binaries[0], 2)\n",
    "\n",
    "co2_scrubber_rating"
   ]
  },
  {
   "cell_type": "code",
   "execution_count": 84,
   "metadata": {},
   "outputs": [
    {
     "data": {
      "text/plain": [
       "1007985"
      ]
     },
     "execution_count": 84,
     "metadata": {},
     "output_type": "execute_result"
    }
   ],
   "source": [
    "co2_scrubber_rating * oxygen_generator_rating"
   ]
  }
 ],
 "metadata": {
  "kernelspec": {
   "display_name": ".venv",
   "language": "python",
   "name": "python3"
  },
  "language_info": {
   "codemirror_mode": {
    "name": "ipython",
    "version": 3
   },
   "file_extension": ".py",
   "mimetype": "text/x-python",
   "name": "python",
   "nbconvert_exporter": "python",
   "pygments_lexer": "ipython3",
   "version": "3.12.8"
  }
 },
 "nbformat": 4,
 "nbformat_minor": 2
}
