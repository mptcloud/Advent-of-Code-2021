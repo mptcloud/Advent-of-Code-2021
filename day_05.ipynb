{
 "cells": [
  {
   "cell_type": "code",
   "execution_count": 1,
   "id": "f4829bb0",
   "metadata": {},
   "outputs": [],
   "source": [
    "import ipytest\n",
    "from dataclasses import dataclass\n",
    "from typing import TextIO, Generator\n",
    "\n",
    "from collections import Counter\n",
    "from collections.abc import Iterator\n",
    "\n",
    "ipytest.autoconfig()"
   ]
  },
  {
   "cell_type": "code",
   "execution_count": 2,
   "id": "5b0fbddd",
   "metadata": {},
   "outputs": [],
   "source": [
    "from pathlib import Path"
   ]
  },
  {
   "cell_type": "code",
   "execution_count": 3,
   "id": "93b53afd",
   "metadata": {},
   "outputs": [],
   "source": [
    "data_path = Path.cwd() / 'data' / 'day5_input.txt'"
   ]
  },
  {
   "cell_type": "code",
   "execution_count": 4,
   "id": "10f5e3f0",
   "metadata": {},
   "outputs": [
    {
     "data": {
      "text/plain": [
       "True"
      ]
     },
     "execution_count": 4,
     "metadata": {},
     "output_type": "execute_result"
    }
   ],
   "source": [
    "data_path.exists()"
   ]
  },
  {
   "cell_type": "code",
   "execution_count": 5,
   "id": "3592e78a",
   "metadata": {},
   "outputs": [],
   "source": [
    "@dataclass(frozen=True)\n",
    "class PointCoordinates:\n",
    "    x: int = 0\n",
    "    y: int = 0"
   ]
  },
  {
   "cell_type": "code",
   "execution_count": 6,
   "id": "5a7f03d4",
   "metadata": {},
   "outputs": [],
   "source": [
    "def row_iter(source: TextIO) -> Generator[list[str, str], None, None]:\n",
    "    for line in source:\n",
    "        yield line.strip('\\n').split(' -> ')"
   ]
  },
  {
   "cell_type": "code",
   "execution_count": 7,
   "id": "251226f6",
   "metadata": {},
   "outputs": [],
   "source": [
    "def create_vent_lines(row_iter: Generator[list[str, str], None, None]) -> Generator[tuple[PointCoordinates, PointCoordinates], None, None]:\n",
    "    for starting_coordinate, ending_coordinate in row_iter:\n",
    "        yield (\n",
    "            PointCoordinates(x=int(starting_coordinate.split(',')[0]), y=int(starting_coordinate.split(',')[1])),\n",
    "            PointCoordinates(x=int(ending_coordinate.split(',')[0]), y=int(ending_coordinate.split(',')[1]))\n",
    "        )"
   ]
  },
  {
   "cell_type": "code",
   "execution_count": 8,
   "id": "8149178c",
   "metadata": {},
   "outputs": [],
   "source": [
    "def get_rows(file_path: Path) -> Iterator[tuple[PointCoordinates, PointCoordinates]]:\n",
    "    with open(file_path, 'r') as file:\n",
    "        yield from create_vent_lines(row_iter(file))"
   ]
  },
  {
   "cell_type": "code",
   "execution_count": 9,
   "id": "184f7626",
   "metadata": {},
   "outputs": [],
   "source": [
    "vent_lines = list(get_rows(data_path))"
   ]
  },
  {
   "cell_type": "code",
   "execution_count": null,
   "id": "88710fe0",
   "metadata": {},
   "outputs": [],
   "source": [
    "def generate_points_between(start: PointCoordinates, end: PointCoordinates, include_diagonals: bool = False) -> list[None | PointCoordinates]:\n",
    "    \"\"\"\n",
    "    Generate all points between two coordinates (start and end), inclusive.\n",
    "\n",
    "    :param start: Starting point coordinates.\n",
    "    :param end: Ending point coordinates.\n",
    "    :param include_diagonals: If True, include diagonal points as well.\n",
    "    :return: A list of PointCoordinates representing all points between start and end.\n",
    "    \"\"\"\n",
    "    if not include_diagonals and start.x != end.x and start.y != end.y:\n",
    "        return []\n",
    "\n",
    "    x1, y1 = start.x, start.y\n",
    "    x2, y2 = end.x, end.y\n",
    "\n",
    "    x_step = 1 if x2 > x1 else -1 if x2 < x1 else 0\n",
    "    y_step = 1 if y2 > y1 else -1 if y2 < y1 else 0\n",
    "\n",
    "    points = []\n",
    "    x, y = x1, y1\n",
    "    while (x, y) != (x2 + x_step, y2 + y_step):\n",
    "        points.append(PointCoordinates(x=x, y=y))\n",
    "        x += x_step\n",
    "        y += y_step\n",
    "\n",
    "    return points"
   ]
  },
  {
   "cell_type": "markdown",
   "id": "f1bd7845",
   "metadata": {},
   "source": [
    "#### Part 1"
   ]
  },
  {
   "cell_type": "code",
   "execution_count": 11,
   "id": "1841e96c",
   "metadata": {},
   "outputs": [],
   "source": [
    "point_counts = Counter(\n",
    "    point\n",
    "    for coordinate_pairs in vent_lines\n",
    "    for point in generate_points_between(coordinate_pairs[0], coordinate_pairs[1])\n",
    ")\n"
   ]
  },
  {
   "cell_type": "code",
   "execution_count": 12,
   "id": "85ec3f21",
   "metadata": {},
   "outputs": [
    {
     "data": {
      "text/plain": [
       "7142"
      ]
     },
     "execution_count": 12,
     "metadata": {},
     "output_type": "execute_result"
    }
   ],
   "source": [
    "overlapping_points = {point: count for point, count in point_counts.items() if count >= 2}\n",
    "\n",
    "len(overlapping_points)"
   ]
  },
  {
   "cell_type": "markdown",
   "id": "d8d188c7",
   "metadata": {},
   "source": [
    "#### Part 2"
   ]
  },
  {
   "cell_type": "code",
   "execution_count": 13,
   "id": "74268f45",
   "metadata": {},
   "outputs": [],
   "source": [
    "point_counts = Counter(\n",
    "    point\n",
    "    for coordinate_pairs in vent_lines\n",
    "    for point in generate_points_between(coordinate_pairs[0], coordinate_pairs[1], include_diagonals=True)\n",
    ")"
   ]
  },
  {
   "cell_type": "code",
   "execution_count": 14,
   "id": "a088626d",
   "metadata": {},
   "outputs": [
    {
     "data": {
      "text/plain": [
       "20012"
      ]
     },
     "execution_count": 14,
     "metadata": {},
     "output_type": "execute_result"
    }
   ],
   "source": [
    "overlapping_points = {point: count for point, count in point_counts.items() if count >= 2}\n",
    "\n",
    "len(overlapping_points)"
   ]
  }
 ],
 "metadata": {
  "kernelspec": {
   "display_name": ".venv",
   "language": "python",
   "name": "python3"
  },
  "language_info": {
   "codemirror_mode": {
    "name": "ipython",
    "version": 3
   },
   "file_extension": ".py",
   "mimetype": "text/x-python",
   "name": "python",
   "nbconvert_exporter": "python",
   "pygments_lexer": "ipython3",
   "version": "3.12.8"
  }
 },
 "nbformat": 4,
 "nbformat_minor": 5
}
