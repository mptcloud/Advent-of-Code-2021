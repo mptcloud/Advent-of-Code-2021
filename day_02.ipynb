{
 "cells": [
  {
   "cell_type": "code",
   "execution_count": 4,
   "metadata": {},
   "outputs": [],
   "source": [
    "from pathlib import Path"
   ]
  },
  {
   "cell_type": "code",
   "execution_count": 5,
   "metadata": {},
   "outputs": [],
   "source": [
    "data_path = Path.cwd() / 'data' / 'day2_input.txt'"
   ]
  },
  {
   "cell_type": "code",
   "execution_count": 6,
   "metadata": {},
   "outputs": [
    {
     "data": {
      "text/plain": [
       "True"
      ]
     },
     "execution_count": 6,
     "metadata": {},
     "output_type": "execute_result"
    }
   ],
   "source": [
    "data_path.exists()"
   ]
  },
  {
   "cell_type": "markdown",
   "metadata": {},
   "source": [
    "#### Part 1"
   ]
  },
  {
   "cell_type": "code",
   "execution_count": 7,
   "metadata": {},
   "outputs": [],
   "source": [
    "with open(data_path, 'r') as file:\n",
    "    course_data = [\n",
    "        (direction, int(unit)) for direction, unit in (line.strip().split() for line in file)\n",
    "    ]"
   ]
  },
  {
   "cell_type": "code",
   "execution_count": 8,
   "metadata": {},
   "outputs": [
    {
     "name": "stdout",
     "output_type": "stream",
     "text": [
      "(1940, 861)\n"
     ]
    }
   ],
   "source": [
    "starting_position = (0, 0)\n",
    "\n",
    "for direction_tuple in course_data:\n",
    "    match direction_tuple[0]:\n",
    "        case 'forward':\n",
    "            starting_position = (starting_position[0] + direction_tuple[1], starting_position[1])\n",
    "        case 'down':\n",
    "            starting_position = (starting_position[0], starting_position[1] + direction_tuple[1])\n",
    "        case 'up':\n",
    "            starting_position = (starting_position[0], starting_position[1] - direction_tuple[1])\n",
    "\n",
    "print(starting_position)"
   ]
  },
  {
   "cell_type": "code",
   "execution_count": 9,
   "metadata": {},
   "outputs": [
    {
     "data": {
      "text/plain": [
       "1670340"
      ]
     },
     "execution_count": 9,
     "metadata": {},
     "output_type": "execute_result"
    }
   ],
   "source": [
    "starting_position[0] * starting_position[1]"
   ]
  },
  {
   "cell_type": "markdown",
   "metadata": {},
   "source": [
    "#### Part 2"
   ]
  },
  {
   "cell_type": "code",
   "execution_count": 12,
   "metadata": {},
   "outputs": [],
   "source": [
    "from dataclasses import dataclass\n",
    "\n",
    "\n",
    "@dataclass\n",
    "class Coordinates:\n",
    "    horizontal_position: int = 0\n",
    "    depth: int = 0\n",
    "    aim: int = 0\n",
    "\n",
    "    def execute_commands(self, course_directions: list[tuple[str, int]]):\n",
    "        for direction_tuple in course_directions:\n",
    "            match direction_tuple[0]:\n",
    "                case 'forward':\n",
    "                    self.horizontal_position += direction_tuple[1]\n",
    "                    self.depth += self.aim * direction_tuple[1]\n",
    "                case 'down':\n",
    "                    self.aim += direction_tuple[1]\n",
    "                case 'up':\n",
    "                    self.aim -= direction_tuple[1]\n",
    "\n",
    "    def __repr__(self):\n",
    "        return (\n",
    "            f'(Horizontal Position={self.horizontal_position}, Depth={self.depth}, Aim={self.aim})'\n",
    "        )"
   ]
  },
  {
   "cell_type": "code",
   "execution_count": 13,
   "metadata": {},
   "outputs": [
    {
     "name": "stdout",
     "output_type": "stream",
     "text": [
      "(Horizontal Position=0, Depth=0, Aim=0)\n"
     ]
    }
   ],
   "source": [
    "coords = Coordinates()\n",
    "print(coords)"
   ]
  },
  {
   "cell_type": "code",
   "execution_count": 14,
   "metadata": {},
   "outputs": [],
   "source": [
    "coords.execute_commands(course_directions=course_data)"
   ]
  },
  {
   "cell_type": "code",
   "execution_count": 15,
   "metadata": {},
   "outputs": [
    {
     "name": "stdout",
     "output_type": "stream",
     "text": [
      "(Horizontal Position=1940, Depth=1007368, Aim=861)\n"
     ]
    }
   ],
   "source": [
    "print(coords)"
   ]
  },
  {
   "cell_type": "code",
   "execution_count": 16,
   "metadata": {},
   "outputs": [
    {
     "data": {
      "text/plain": [
       "1954293920"
      ]
     },
     "execution_count": 16,
     "metadata": {},
     "output_type": "execute_result"
    }
   ],
   "source": [
    "coords.horizontal_position * coords.depth"
   ]
  },
  {
   "cell_type": "markdown",
   "metadata": {},
   "source": [
    "#### Trying out a file to namedtuple read\n",
    "\n",
    "Ideally, I would still stick with the dataclass, but a namedtuple does offer the advantage of naming the field that is being referenced."
   ]
  },
  {
   "cell_type": "code",
   "execution_count": 21,
   "metadata": {},
   "outputs": [],
   "source": [
    "from collections import namedtuple"
   ]
  },
  {
   "cell_type": "code",
   "execution_count": 18,
   "metadata": {},
   "outputs": [],
   "source": [
    "direction_tuple = namedtuple('direction_tuple', ['direction', 'unit'])\n",
    "\n",
    "with open(data_path, 'r') as file:\n",
    "    course_data_redux = [\n",
    "        direction_tuple(direction, int(unit))\n",
    "        for direction, unit in (line.strip().split() for line in file)\n",
    "    ]"
   ]
  },
  {
   "cell_type": "markdown",
   "metadata": {},
   "source": [
    "Example"
   ]
  },
  {
   "cell_type": "code",
   "execution_count": 20,
   "metadata": {},
   "outputs": [
    {
     "data": {
      "text/plain": [
       "'forward'"
      ]
     },
     "execution_count": 20,
     "metadata": {},
     "output_type": "execute_result"
    }
   ],
   "source": [
    "course_data_redux[0].direction"
   ]
  }
 ],
 "metadata": {
  "kernelspec": {
   "display_name": ".venv",
   "language": "python",
   "name": "python3"
  },
  "language_info": {
   "codemirror_mode": {
    "name": "ipython",
    "version": 3
   },
   "file_extension": ".py",
   "mimetype": "text/x-python",
   "name": "python",
   "nbconvert_exporter": "python",
   "pygments_lexer": "ipython3",
   "version": "3.12.8"
  }
 },
 "nbformat": 4,
 "nbformat_minor": 2
}
