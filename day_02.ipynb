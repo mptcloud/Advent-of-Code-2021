{
 "cells": [
  {
   "cell_type": "code",
   "execution_count": 1,
   "metadata": {},
   "outputs": [],
   "source": [
    "from pathlib import Path"
   ]
  },
  {
   "cell_type": "code",
   "execution_count": 2,
   "metadata": {},
   "outputs": [],
   "source": [
    "data_path = Path.cwd() / 'data' / 'day2_input.txt'"
   ]
  },
  {
   "cell_type": "code",
   "execution_count": 3,
   "metadata": {},
   "outputs": [
    {
     "data": {
      "text/plain": [
       "True"
      ]
     },
     "execution_count": 3,
     "metadata": {},
     "output_type": "execute_result"
    }
   ],
   "source": [
    "data_path.exists()"
   ]
  },
  {
   "cell_type": "markdown",
   "metadata": {},
   "source": [
    "#### Part 1"
   ]
  },
  {
   "cell_type": "code",
   "execution_count": 29,
   "metadata": {},
   "outputs": [
    {
     "name": "stdout",
     "output_type": "stream",
     "text": [
      "(1940, 861)\n"
     ]
    }
   ],
   "source": [
    "with open(data_path, 'r') as file:\n",
    "    course_data = [\n",
    "        (direction, int(unit)) for direction, unit in (line.strip().split() for line in file)\n",
    "    ]\n",
    "\n",
    "starting_position = (0, 0)\n",
    "\n",
    "for direction_tuple in course_data:\n",
    "    match direction_tuple[0]:\n",
    "        case 'forward':\n",
    "            starting_position = (starting_position[0] + direction_tuple[1], starting_position[1])\n",
    "        case 'down':\n",
    "            starting_position = (starting_position[0], starting_position[1] + direction_tuple[1])\n",
    "        case 'up':\n",
    "            starting_position = (starting_position[0], starting_position[1] - direction_tuple[1])\n",
    "\n",
    "print(starting_position)"
   ]
  },
  {
   "cell_type": "code",
   "execution_count": 30,
   "metadata": {},
   "outputs": [
    {
     "data": {
      "text/plain": [
       "1670340"
      ]
     },
     "execution_count": 30,
     "metadata": {},
     "output_type": "execute_result"
    }
   ],
   "source": [
    "starting_position[0] * starting_position[1]"
   ]
  }
 ],
 "metadata": {
  "kernelspec": {
   "display_name": ".venv",
   "language": "python",
   "name": "python3"
  },
  "language_info": {
   "codemirror_mode": {
    "name": "ipython",
    "version": 3
   },
   "file_extension": ".py",
   "mimetype": "text/x-python",
   "name": "python",
   "nbconvert_exporter": "python",
   "pygments_lexer": "ipython3",
   "version": "3.12.8"
  }
 },
 "nbformat": 4,
 "nbformat_minor": 2
}
