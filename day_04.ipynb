{
 "cells": [
  {
   "cell_type": "code",
   "execution_count": 1,
   "metadata": {},
   "outputs": [],
   "source": [
    "import ipytest\n",
    "import pytest\n",
    "\n",
    "ipytest.autoconfig()"
   ]
  },
  {
   "cell_type": "code",
   "execution_count": 2,
   "metadata": {},
   "outputs": [],
   "source": [
    "from pathlib import Path"
   ]
  },
  {
   "cell_type": "code",
   "execution_count": 3,
   "metadata": {},
   "outputs": [],
   "source": [
    "data_path = Path.cwd() / 'data' / 'day4_input.txt'"
   ]
  },
  {
   "cell_type": "code",
   "execution_count": 4,
   "metadata": {},
   "outputs": [
    {
     "data": {
      "text/plain": [
       "True"
      ]
     },
     "execution_count": 4,
     "metadata": {},
     "output_type": "execute_result"
    }
   ],
   "source": [
    "data_path.exists()"
   ]
  },
  {
   "cell_type": "markdown",
   "metadata": {},
   "source": [
    "#### Part 1"
   ]
  },
  {
   "cell_type": "code",
   "execution_count": 5,
   "metadata": {},
   "outputs": [],
   "source": [
    "import numpy as np\n",
    "import re\n",
    "\n",
    "from collections.abc import Iterable\n",
    "from itertools import groupby"
   ]
  },
  {
   "cell_type": "code",
   "execution_count": 6,
   "metadata": {},
   "outputs": [],
   "source": [
    "def parse_grouped_strings_to_int_lists(grouped_string: Iterable[str]) -> list[int]:\n",
    "    return [list(map(int, re.split(r'[,\\s]+', line.strip()))) for line in grouped_string]\n",
    "        \n",
    "\n",
    "def read_arrays_from_file(file_path: Path) -> list[np.ndarray]:\n",
    "    with open(file_path, 'r') as file:\n",
    "        lines = file.readlines()\n",
    "    \n",
    "    arrays = [\n",
    "        np.array(parse_grouped_strings_to_int_lists(group))\n",
    "        for is_non_empty, group in groupby(lines, key=lambda x: bool(x.strip()))\n",
    "        if is_non_empty\n",
    "    ]\n",
    "    \n",
    "    return arrays"
   ]
  },
  {
   "cell_type": "code",
   "execution_count": 7,
   "metadata": {},
   "outputs": [
    {
     "name": "stdout",
     "output_type": "stream",
     "text": [
      "\u001b[1m======================================= test session starts ========================================\u001b[0m\n",
      "platform darwin -- Python 3.12.8, pytest-8.3.5, pluggy-1.5.0 -- /Users/hariravindran/Documents/workstation/Advent-of-Code-2021/.venv/bin/python\n",
      "cachedir: .pytest_cache\n",
      "rootdir: /Users/hariravindran/Documents/workstation/Advent-of-Code-2021\n",
      "configfile: pyproject.toml\n",
      "\u001b[1mcollecting ... \u001b[0mcollected 1 item\n",
      "\n",
      "t_b0c4c23717e848ad9723a03972274c5c.py::test_parse_grouped_strings_to_int_lists \u001b[32mPASSED\u001b[0m\u001b[32m        [100%]\u001b[0m\n",
      "\n",
      "\u001b[32m======================================== \u001b[32m\u001b[1m1 passed\u001b[0m\u001b[32m in 0.01s\u001b[0m\u001b[32m =========================================\u001b[0m\n"
     ]
    }
   ],
   "source": [
    "%%ipytest -vv\n",
    "\n",
    "def test_parse_grouped_strings_to_int_lists():\n",
    "    assert parse_grouped_strings_to_int_lists(['1, 2, 3\\n', '4 5 6\\n']) == [[1, 2, 3], [4, 5, 6]]\n",
    "    assert parse_grouped_strings_to_int_lists(['   1, 2, 3  \\n  ', '4 5 6\\n']) == [[1, 2, 3], [4, 5, 6]]\n"
   ]
  },
  {
   "cell_type": "code",
   "execution_count": 8,
   "metadata": {},
   "outputs": [
    {
     "name": "stdout",
     "output_type": "stream",
     "text": [
      "\u001b[1m======================================= test session starts ========================================\u001b[0m\n",
      "platform darwin -- Python 3.12.8, pytest-8.3.5, pluggy-1.5.0 -- /Users/hariravindran/Documents/workstation/Advent-of-Code-2021/.venv/bin/python\n",
      "cachedir: .pytest_cache\n",
      "rootdir: /Users/hariravindran/Documents/workstation/Advent-of-Code-2021\n",
      "configfile: pyproject.toml\n",
      "\u001b[1mcollecting ... \u001b[0mcollected 1 item\n",
      "\n",
      "t_b0c4c23717e848ad9723a03972274c5c.py::test_read_arrays_from_file "
     ]
    },
    {
     "name": "stdout",
     "output_type": "stream",
     "text": [
      "\u001b[32mPASSED\u001b[0m\u001b[32m                     [100%]\u001b[0m\n",
      "\n",
      "\u001b[32m======================================== \u001b[32m\u001b[1m1 passed\u001b[0m\u001b[32m in 0.01s\u001b[0m\u001b[32m =========================================\u001b[0m\n"
     ]
    }
   ],
   "source": [
    "%%ipytest -vv\n",
    "\n",
    "def test_read_arrays_from_file(tmp_path):\n",
    "    DATA_TEXT = \"\"\"\n",
    "    46,12,57,37,14,78,31,71,87,52,64,97,10,35,54,36\n",
    "\n",
    "    37 72 60 35 89\n",
    "    32 49  4 77 82\n",
    "    \"\"\"\n",
    "\n",
    "    test_data_path = tmp_path / 'test_data.txt'\n",
    "    test_data_path.write_text(DATA_TEXT)\n",
    "\n",
    "    bingo_list_of_numbers, *bingo_boards = read_arrays_from_file(test_data_path)\n",
    "    \n",
    "    assert np.array_equal(bingo_list_of_numbers, np.array([[46, 12, 57, 37, 14, 78, 31, 71, 87, 52, 64, 97, 10, 35, 54, 36]]))\n",
    "    assert np.array_equal(bingo_boards, [np.array([[37, 72, 60, 35, 89], [32, 49, 4, 77, 82]])])"
   ]
  },
  {
   "cell_type": "code",
   "execution_count": 9,
   "metadata": {},
   "outputs": [],
   "source": [
    "bingo_array_of_numbers, *bingo_boards = read_arrays_from_file(data_path)"
   ]
  },
  {
   "cell_type": "code",
   "execution_count": 10,
   "metadata": {},
   "outputs": [],
   "source": [
    "bingo_list_of_numbers = bingo_array_of_numbers.flatten().tolist()"
   ]
  },
  {
   "cell_type": "code",
   "execution_count": 11,
   "metadata": {},
   "outputs": [
    {
     "data": {
      "text/plain": [
       "array([[41, 94, 77, 43, 87],\n",
       "       [ 2, 17, 82, 96, 25],\n",
       "       [95, 49, 32, 12,  9],\n",
       "       [59, 33, 67, 71, 64],\n",
       "       [88, 54, 93, 85, 30]])"
      ]
     },
     "execution_count": 11,
     "metadata": {},
     "output_type": "execute_result"
    }
   ],
   "source": [
    "bingo_boards[1]"
   ]
  },
  {
   "cell_type": "code",
   "execution_count": 12,
   "metadata": {},
   "outputs": [
    {
     "data": {
      "text/plain": [
       "np.int64(1063)"
      ]
     },
     "execution_count": 12,
     "metadata": {},
     "output_type": "execute_result"
    }
   ],
   "source": [
    "np.sum(bingo_boards[1][~np.isin(bingo_boards[1], [41, 94, 77, 43, 87])])"
   ]
  },
  {
   "cell_type": "code",
   "execution_count": 69,
   "metadata": {},
   "outputs": [],
   "source": [
    "def check_win(mask: np.ndarray) -> bool:\n",
    "    rows_win = np.sum(mask.all(axis=1))  # Count rows where all elements are True\n",
    "    cols_win = np.sum(mask.all(axis=0))  # Count columns where all elements are True\n",
    "    return (rows_win + cols_win) == 1\n",
    "\n",
    "def calculate_score(winning_board: np.ndarray, drawn_numbers: list[int]) -> int:\n",
    "    return np.sum(winning_board[~np.isin(winning_board, drawn_numbers)]) * drawn_numbers[-1]"
   ]
  },
  {
   "cell_type": "markdown",
   "metadata": {},
   "source": [
    "#### Part 1"
   ]
  },
  {
   "cell_type": "code",
   "execution_count": 70,
   "metadata": {},
   "outputs": [
    {
     "name": "stdout",
     "output_type": "stream",
     "text": [
      "74320\n"
     ]
    }
   ],
   "source": [
    "sublists_of_numbers = (\n",
    "    bingo_list_of_numbers[:i] for i in range (1, len(bingo_list_of_numbers)+1)\n",
    ")\n",
    "\n",
    "for i in range(1, len(bingo_list_of_numbers) + 1):\n",
    "    list_of_drawn_numbers = bingo_list_of_numbers[:i]\n",
    "    winning_board = next((board for board in bingo_boards if check_win(np.isin(board, list_of_drawn_numbers))), None)\n",
    "    if winning_board is not None:\n",
    "        winning_score = calculate_score(winning_board=winning_board, drawn_numbers=list_of_drawn_numbers)\n",
    "        print(winning_score)\n",
    "        break"
   ]
  },
  {
   "cell_type": "markdown",
   "metadata": {},
   "source": [
    "#### Part 2"
   ]
  },
  {
   "cell_type": "code",
   "execution_count": 71,
   "metadata": {},
   "outputs": [],
   "source": [
    "sublists_of_numbers = (\n",
    "    bingo_list_of_numbers[:i] for i in range (1, len(bingo_list_of_numbers)+1)\n",
    ")\n",
    "\n",
    "winning_boards_and_numbers: list[tuple[np.ndarray, list[int]]] = []\n",
    "for i in range(1, len(bingo_list_of_numbers) + 1):\n",
    "    list_of_drawn_numbers = bingo_list_of_numbers[:i]\n",
    "    winning_board = next((board for board in bingo_boards if check_win(np.isin(board, list_of_drawn_numbers))), None)\n",
    "    if winning_board is not None:\n",
    "        winning_boards_and_numbers.append((winning_board, list_of_drawn_numbers))"
   ]
  },
  {
   "cell_type": "code",
   "execution_count": 72,
   "metadata": {},
   "outputs": [
    {
     "data": {
      "text/plain": [
       "71"
      ]
     },
     "execution_count": 72,
     "metadata": {},
     "output_type": "execute_result"
    }
   ],
   "source": [
    "len(winning_boards_and_numbers)"
   ]
  },
  {
   "cell_type": "code",
   "execution_count": 76,
   "metadata": {},
   "outputs": [
    {
     "data": {
      "text/plain": [
       "np.int64(17884)"
      ]
     },
     "execution_count": 76,
     "metadata": {},
     "output_type": "execute_result"
    }
   ],
   "source": [
    "calculate_score(winning_board=winning_boards_and_numbers[-2][0], drawn_numbers=winning_boards_and_numbers[-2][1])"
   ]
  },
  {
   "cell_type": "code",
   "execution_count": 77,
   "metadata": {},
   "outputs": [
    {
     "data": {
      "text/plain": [
       "array([[ True,  True,  True,  True,  True],\n",
       "       [False,  True,  True,  True,  True],\n",
       "       [ True, False, False,  True,  True],\n",
       "       [ True,  True,  True, False,  True],\n",
       "       [ True, False,  True, False, False]])"
      ]
     },
     "execution_count": 77,
     "metadata": {},
     "output_type": "execute_result"
    }
   ],
   "source": [
    "np.isin(winning_boards_and_numbers[-2][0], winning_boards_and_numbers[-2][1])"
   ]
  },
  {
   "cell_type": "code",
   "execution_count": null,
   "metadata": {},
   "outputs": [],
   "source": []
  }
 ],
 "metadata": {
  "kernelspec": {
   "display_name": ".venv",
   "language": "python",
   "name": "python3"
  },
  "language_info": {
   "codemirror_mode": {
    "name": "ipython",
    "version": 3
   },
   "file_extension": ".py",
   "mimetype": "text/x-python",
   "name": "python",
   "nbconvert_exporter": "python",
   "pygments_lexer": "ipython3",
   "version": "3.12.8"
  }
 },
 "nbformat": 4,
 "nbformat_minor": 2
}
