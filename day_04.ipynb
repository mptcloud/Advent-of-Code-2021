{
 "cells": [
  {
   "cell_type": "code",
   "execution_count": 7,
   "metadata": {},
   "outputs": [],
   "source": [
    "import ipytest\n",
    "import pytest\n",
    "\n",
    "ipytest.autoconfig()"
   ]
  },
  {
   "cell_type": "code",
   "execution_count": 2,
   "metadata": {},
   "outputs": [],
   "source": [
    "from pathlib import Path"
   ]
  },
  {
   "cell_type": "code",
   "execution_count": 3,
   "metadata": {},
   "outputs": [],
   "source": [
    "data_path = Path.cwd() / 'data' / 'day4_input.txt'"
   ]
  },
  {
   "cell_type": "code",
   "execution_count": 4,
   "metadata": {},
   "outputs": [
    {
     "data": {
      "text/plain": [
       "True"
      ]
     },
     "execution_count": 4,
     "metadata": {},
     "output_type": "execute_result"
    }
   ],
   "source": [
    "data_path.exists()"
   ]
  },
  {
   "cell_type": "markdown",
   "metadata": {},
   "source": [
    "#### Part 1"
   ]
  },
  {
   "cell_type": "code",
   "execution_count": 5,
   "metadata": {},
   "outputs": [],
   "source": [
    "import numpy as np\n",
    "import re\n",
    "\n",
    "from collections.abc import Iterable\n",
    "from itertools import groupby"
   ]
  },
  {
   "cell_type": "code",
   "execution_count": null,
   "metadata": {},
   "outputs": [],
   "source": [
    "def parse_grouped_strings_to_int_lists(grouped_string: Iterable[str]) -> list[int]:\n",
    "    return [list(map(int, re.split(r'[,\\s]+', line.strip()))) for line in grouped_string]\n",
    "        \n",
    "\n",
    "def read_arrays_from_file(file_path: Path) -> list[np.ndarray]:\n",
    "    with open(file_path, 'r') as file:\n",
    "        lines = file.readlines()\n",
    "    \n",
    "    arrays = [\n",
    "        np.array(parse_grouped_strings_to_int_lists(group))\n",
    "        for is_non_empty, group in groupby(lines, key=lambda x: bool(x.strip()))\n",
    "        if is_non_empty\n",
    "    ]\n",
    "    \n",
    "    return arrays"
   ]
  },
  {
   "cell_type": "code",
   "execution_count": 23,
   "metadata": {},
   "outputs": [
    {
     "name": "stdout",
     "output_type": "stream",
     "text": [
      "\u001b[1m======================================= test session starts ========================================\u001b[0m\n",
      "platform darwin -- Python 3.12.8, pytest-8.3.5, pluggy-1.5.0 -- /Users/hariravindran/Documents/workstation/Advent-of-Code-2021/.venv/bin/python\n",
      "cachedir: .pytest_cache\n",
      "rootdir: /Users/hariravindran/Documents/workstation/Advent-of-Code-2021\n",
      "configfile: pyproject.toml\n",
      "\u001b[1mcollecting ... \u001b[0m"
     ]
    },
    {
     "name": "stdout",
     "output_type": "stream",
     "text": [
      "collected 1 item\n",
      "\n",
      "t_6522581da361443a84f1ebe26834ff7a.py::test_parse_grouped_strings_to_int_lists \u001b[32mPASSED\u001b[0m\u001b[32m        [100%]\u001b[0m\n",
      "\n",
      "\u001b[32m======================================== \u001b[32m\u001b[1m1 passed\u001b[0m\u001b[32m in 0.01s\u001b[0m\u001b[32m =========================================\u001b[0m\n"
     ]
    }
   ],
   "source": [
    "%%ipytest -vv\n",
    "\n",
    "def test_parse_grouped_strings_to_int_lists():\n",
    "    assert parse_grouped_strings_to_int_lists(['1, 2, 3\\n', '4 5 6\\n']) == [[1, 2, 3], [4, 5, 6]]\n",
    "    assert parse_grouped_strings_to_int_lists(['   1, 2, 3  \\n  ', '4 5 6\\n']) == [[1, 2, 3], [4, 5, 6]]\n"
   ]
  },
  {
   "cell_type": "code",
   "execution_count": 37,
   "metadata": {},
   "outputs": [
    {
     "name": "stdout",
     "output_type": "stream",
     "text": [
      "\u001b[1m======================================= test session starts ========================================\u001b[0m\n",
      "platform darwin -- Python 3.12.8, pytest-8.3.5, pluggy-1.5.0 -- /Users/hariravindran/Documents/workstation/Advent-of-Code-2021/.venv/bin/python\n",
      "cachedir: .pytest_cache\n",
      "rootdir: /Users/hariravindran/Documents/workstation/Advent-of-Code-2021\n",
      "configfile: pyproject.toml\n",
      "\u001b[1mcollecting ... \u001b[0mcollected 1 item\n",
      "\n",
      "t_6522581da361443a84f1ebe26834ff7a.py::test_read_arrays_from_file \u001b[32mPASSED\u001b[0m\u001b[32m                     [100%]\u001b[0m\n",
      "\n",
      "\u001b[32m======================================== \u001b[32m\u001b[1m1 passed\u001b[0m\u001b[32m in 0.01s\u001b[0m\u001b[32m =========================================\u001b[0m\n"
     ]
    }
   ],
   "source": [
    "%%ipytest -vv\n",
    "\n",
    "def test_read_arrays_from_file(tmp_path):\n",
    "    DATA_TEXT = \"\"\"\n",
    "    46,12,57,37,14,78,31,71,87,52,64,97,10,35,54,36\n",
    "\n",
    "    37 72 60 35 89\n",
    "    32 49  4 77 82\n",
    "    \"\"\"\n",
    "\n",
    "    test_data_path = tmp_path / 'test_data.txt'\n",
    "    test_data_path.write_text(DATA_TEXT)\n",
    "\n",
    "    bingo_list_of_numbers, *bingo_boards = read_arrays_from_file(test_data_path)\n",
    "    \n",
    "    assert np.array_equal(bingo_list_of_numbers, np.array([[46, 12, 57, 37, 14, 78, 31, 71, 87, 52, 64, 97, 10, 35, 54, 36]]))\n",
    "    assert np.array_equal(bingo_boards, [np.array([[37, 72, 60, 35, 89], [32, 49, 4, 77, 82]])])"
   ]
  },
  {
   "cell_type": "code",
   "execution_count": 15,
   "metadata": {},
   "outputs": [],
   "source": [
    "bingo_list_of_numbers, *bingo_boards = read_arrays_from_file(data_path)"
   ]
  },
  {
   "cell_type": "code",
   "execution_count": 18,
   "metadata": {},
   "outputs": [
    {
     "data": {
      "text/plain": [
       "array([[46, 12, 57, 37, 14, 78, 31, 71, 87, 52, 64, 97, 10, 35, 54, 36,\n",
       "        27, 84, 80, 94, 99, 22,  0, 11, 30, 44, 86, 59, 66,  7, 90, 21,\n",
       "        51, 53, 92,  8, 76, 41, 39, 77, 42, 88, 29, 24, 60, 17, 68, 13,\n",
       "        79, 67, 50, 82, 25, 61, 20, 16,  6,  3, 81, 19, 85,  9, 28, 56,\n",
       "        75, 96,  2, 26,  1, 62, 33, 63, 32, 73, 18, 48, 43, 65, 98,  5,\n",
       "        91, 69, 47,  4, 38, 23, 49, 34, 55, 83, 93, 45, 72, 95, 40, 15,\n",
       "        58, 74, 70, 89]])"
      ]
     },
     "execution_count": 18,
     "metadata": {},
     "output_type": "execute_result"
    }
   ],
   "source": [
    "bingo_list_of_numbers"
   ]
  },
  {
   "cell_type": "code",
   "execution_count": 19,
   "metadata": {},
   "outputs": [
    {
     "data": {
      "text/plain": [
       "array([[37, 72, 60, 35, 89],\n",
       "       [32, 49,  4, 77, 82],\n",
       "       [30, 26, 27, 63, 88],\n",
       "       [29, 43, 16, 34, 58],\n",
       "       [48, 33, 96, 79, 94]])"
      ]
     },
     "execution_count": 19,
     "metadata": {},
     "output_type": "execute_result"
    }
   ],
   "source": [
    "bingo_boards[0]"
   ]
  },
  {
   "cell_type": "code",
   "execution_count": null,
   "metadata": {},
   "outputs": [],
   "source": []
  }
 ],
 "metadata": {
  "kernelspec": {
   "display_name": ".venv",
   "language": "python",
   "name": "python3"
  },
  "language_info": {
   "codemirror_mode": {
    "name": "ipython",
    "version": 3
   },
   "file_extension": ".py",
   "mimetype": "text/x-python",
   "name": "python",
   "nbconvert_exporter": "python",
   "pygments_lexer": "ipython3",
   "version": "3.12.8"
  }
 },
 "nbformat": 4,
 "nbformat_minor": 2
}
