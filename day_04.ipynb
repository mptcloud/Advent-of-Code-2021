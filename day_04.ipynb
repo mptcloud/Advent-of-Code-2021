{
 "cells": [
  {
   "cell_type": "code",
   "execution_count": 2,
   "metadata": {},
   "outputs": [],
   "source": [
    "import ipytest\n",
    "from dataclasses import dataclass\n",
    "\n",
    "ipytest.autoconfig()"
   ]
  },
  {
   "cell_type": "code",
   "execution_count": 3,
   "metadata": {},
   "outputs": [],
   "source": [
    "from pathlib import Path"
   ]
  },
  {
   "cell_type": "code",
   "execution_count": 4,
   "metadata": {},
   "outputs": [],
   "source": [
    "data_path = Path.cwd() / 'data' / 'day4_input.txt'"
   ]
  },
  {
   "cell_type": "code",
   "execution_count": 5,
   "metadata": {},
   "outputs": [
    {
     "data": {
      "text/plain": [
       "True"
      ]
     },
     "execution_count": 5,
     "metadata": {},
     "output_type": "execute_result"
    }
   ],
   "source": [
    "data_path.exists()"
   ]
  },
  {
   "cell_type": "markdown",
   "metadata": {},
   "source": [
    "#### Part 1"
   ]
  },
  {
   "cell_type": "code",
   "execution_count": 6,
   "metadata": {},
   "outputs": [],
   "source": [
    "import numpy as np\n",
    "import re\n",
    "\n",
    "from collections.abc import Iterable\n",
    "from itertools import groupby"
   ]
  },
  {
   "cell_type": "code",
   "execution_count": 7,
   "metadata": {},
   "outputs": [],
   "source": [
    "def parse_grouped_strings_to_int_lists(grouped_string: Iterable[str]) -> list[int]:\n",
    "    return [list(map(int, re.split(r'[,\\s]+', line.strip()))) for line in grouped_string]\n",
    "        \n",
    "\n",
    "def read_arrays_from_file(file_path: Path) -> list[np.ndarray]:\n",
    "    with open(file_path, 'r') as file:\n",
    "        lines = file.readlines()\n",
    "    \n",
    "    arrays = [\n",
    "        np.array(parse_grouped_strings_to_int_lists(group))\n",
    "        for is_non_empty, group in groupby(lines, key=lambda x: bool(x.strip()))\n",
    "        if is_non_empty\n",
    "    ]\n",
    "    \n",
    "    return arrays"
   ]
  },
  {
   "cell_type": "code",
   "execution_count": 8,
   "metadata": {},
   "outputs": [
    {
     "name": "stdout",
     "output_type": "stream",
     "text": [
      "\u001b[1m======================================= test session starts ========================================\u001b[0m\n",
      "platform darwin -- Python 3.12.8, pytest-8.3.5, pluggy-1.5.0 -- /Users/hariravindran/Documents/workstation/Advent-of-Code-2021/.venv/bin/python\n",
      "cachedir: .pytest_cache\n",
      "rootdir: /Users/hariravindran/Documents/workstation/Advent-of-Code-2021\n",
      "configfile: pyproject.toml\n",
      "\u001b[1mcollecting ... \u001b[0m"
     ]
    },
    {
     "name": "stdout",
     "output_type": "stream",
     "text": [
      "collected 1 item\n",
      "\n",
      "t_53177e9c072b4b9198ed9e361e1b5898.py::test_parse_grouped_strings_to_int_lists \u001b[32mPASSED\u001b[0m\u001b[32m        [100%]\u001b[0m\n",
      "\n",
      "\u001b[32m======================================== \u001b[32m\u001b[1m1 passed\u001b[0m\u001b[32m in 0.01s\u001b[0m\u001b[32m =========================================\u001b[0m\n"
     ]
    }
   ],
   "source": [
    "%%ipytest -vv\n",
    "\n",
    "def test_parse_grouped_strings_to_int_lists():\n",
    "    assert parse_grouped_strings_to_int_lists(['1, 2, 3\\n', '4 5 6\\n']) == [[1, 2, 3], [4, 5, 6]]\n",
    "    assert parse_grouped_strings_to_int_lists(['   1, 2, 3  \\n  ', '4 5 6\\n']) == [[1, 2, 3], [4, 5, 6]]\n"
   ]
  },
  {
   "cell_type": "code",
   "execution_count": 9,
   "metadata": {},
   "outputs": [
    {
     "name": "stdout",
     "output_type": "stream",
     "text": [
      "\u001b[1m======================================= test session starts ========================================\u001b[0m\n",
      "platform darwin -- Python 3.12.8, pytest-8.3.5, pluggy-1.5.0 -- /Users/hariravindran/Documents/workstation/Advent-of-Code-2021/.venv/bin/python\n",
      "cachedir: .pytest_cache\n",
      "rootdir: /Users/hariravindran/Documents/workstation/Advent-of-Code-2021\n",
      "configfile: pyproject.toml\n",
      "\u001b[1mcollecting ... \u001b[0mcollected 1 item\n",
      "\n",
      "t_53177e9c072b4b9198ed9e361e1b5898.py::test_read_arrays_from_file "
     ]
    },
    {
     "name": "stdout",
     "output_type": "stream",
     "text": [
      "\u001b[32mPASSED\u001b[0m\u001b[32m                     [100%]\u001b[0m\n",
      "\n",
      "\u001b[32m======================================== \u001b[32m\u001b[1m1 passed\u001b[0m\u001b[32m in 0.01s\u001b[0m\u001b[32m =========================================\u001b[0m\n"
     ]
    }
   ],
   "source": [
    "%%ipytest -vv\n",
    "\n",
    "def test_read_arrays_from_file(tmp_path):\n",
    "    DATA_TEXT = \"\"\"\n",
    "    46,12,57,37,14,78,31,71,87,52,64,97,10,35,54,36\n",
    "\n",
    "    37 72 60 35 89\n",
    "    32 49  4 77 82\n",
    "    \"\"\"\n",
    "\n",
    "    test_data_path = tmp_path / 'test_data.txt'\n",
    "    test_data_path.write_text(DATA_TEXT)\n",
    "\n",
    "    bingo_list_of_numbers, *bingo_boards = read_arrays_from_file(test_data_path)\n",
    "    \n",
    "    assert np.array_equal(bingo_list_of_numbers, np.array([[46, 12, 57, 37, 14, 78, 31, 71, 87, 52, 64, 97, 10, 35, 54, 36]]))\n",
    "    assert np.array_equal(bingo_boards, [np.array([[37, 72, 60, 35, 89], [32, 49, 4, 77, 82]])])"
   ]
  },
  {
   "cell_type": "code",
   "execution_count": 10,
   "metadata": {},
   "outputs": [],
   "source": [
    "bingo_array_of_numbers, *bingo_boards = read_arrays_from_file(data_path)"
   ]
  },
  {
   "cell_type": "code",
   "execution_count": 11,
   "metadata": {},
   "outputs": [],
   "source": [
    "bingo_list_of_numbers = bingo_array_of_numbers.flatten().tolist()"
   ]
  },
  {
   "cell_type": "code",
   "execution_count": 12,
   "metadata": {},
   "outputs": [
    {
     "data": {
      "text/plain": [
       "array([[41, 94, 77, 43, 87],\n",
       "       [ 2, 17, 82, 96, 25],\n",
       "       [95, 49, 32, 12,  9],\n",
       "       [59, 33, 67, 71, 64],\n",
       "       [88, 54, 93, 85, 30]])"
      ]
     },
     "execution_count": 12,
     "metadata": {},
     "output_type": "execute_result"
    }
   ],
   "source": [
    "bingo_boards[1]"
   ]
  },
  {
   "cell_type": "code",
   "execution_count": 13,
   "metadata": {},
   "outputs": [],
   "source": [
    "def check_win(mask: np.ndarray) -> bool:\n",
    "    rows_win = np.sum(mask.all(axis=1))  # Count rows where all elements are True\n",
    "    cols_win = np.sum(mask.all(axis=0))  # Count columns where all elements are True\n",
    "    return (rows_win + cols_win) == 1\n",
    "\n",
    "def calculate_score(winning_board: np.ndarray, drawn_numbers: list[int]) -> int:\n",
    "    return np.sum(winning_board[~np.isin(winning_board, drawn_numbers)]) * drawn_numbers[-1]"
   ]
  },
  {
   "cell_type": "code",
   "execution_count": 14,
   "metadata": {},
   "outputs": [
    {
     "name": "stdout",
     "output_type": "stream",
     "text": [
      "\u001b[1m======================================= test session starts ========================================\u001b[0m\n",
      "platform darwin -- Python 3.12.8, pytest-8.3.5, pluggy-1.5.0 -- /Users/hariravindran/Documents/workstation/Advent-of-Code-2021/.venv/bin/python\n",
      "cachedir: .pytest_cache\n",
      "rootdir: /Users/hariravindran/Documents/workstation/Advent-of-Code-2021\n",
      "configfile: pyproject.toml\n",
      "\u001b[1mcollecting ... \u001b[0m"
     ]
    },
    {
     "name": "stdout",
     "output_type": "stream",
     "text": [
      "collected 4 items\n",
      "\n",
      "t_53177e9c072b4b9198ed9e361e1b5898.py::test_check_win_when_no_true_rows_or_columns \u001b[32mPASSED\u001b[0m\u001b[32m    [ 25%]\u001b[0m\n",
      "t_53177e9c072b4b9198ed9e361e1b5898.py::test_check_win_when_one_true_row \u001b[32mPASSED\u001b[0m\u001b[32m               [ 50%]\u001b[0m\n",
      "t_53177e9c072b4b9198ed9e361e1b5898.py::test_check_win_when_one_true_column \u001b[32mPASSED\u001b[0m\u001b[32m            [ 75%]\u001b[0m\n",
      "t_53177e9c072b4b9198ed9e361e1b5898.py::test_check_win_when_true_column_and_true_row \u001b[32mPASSED\u001b[0m\u001b[32m   [100%]\u001b[0m\n",
      "\n",
      "\u001b[32m======================================== \u001b[32m\u001b[1m4 passed\u001b[0m\u001b[32m in 0.01s\u001b[0m\u001b[32m =========================================\u001b[0m\n"
     ]
    }
   ],
   "source": [
    "%%ipytest -vv\n",
    "\n",
    "def test_check_win_when_no_true_rows_or_columns():\n",
    "    # Given\n",
    "    mask = np.array([[True, True, True, False, False],\n",
    "                     [False, False, False, False, False],\n",
    "                     [False, False, False, False, False],\n",
    "                     [False, False, False, False, False],\n",
    "                     [False, False, False, True, True]])\n",
    "\n",
    "    # When\n",
    "    result = check_win(mask)\n",
    "\n",
    "    # Then\n",
    "    assert result == False\n",
    "\n",
    "\n",
    "def test_check_win_when_one_true_row():\n",
    "    # Given\n",
    "    mask = np.array([[True, True, True, True, True],\n",
    "                     [False, False, False, False, False],\n",
    "                     [False, False, False, False, False],\n",
    "                     [False, False, False, False, False],\n",
    "                     [False, False, False, True, True]])\n",
    "\n",
    "    # When\n",
    "    result = check_win(mask)\n",
    "\n",
    "    # Then\n",
    "    assert result == True\n",
    "\n",
    "\n",
    "def test_check_win_when_one_true_column():\n",
    "    # Given\n",
    "    mask = np.array([[True, False, False, False, False],\n",
    "                     [True, False, False, False, False],\n",
    "                     [True, False, False, False, False],\n",
    "                     [True, False, False, False, False],\n",
    "                     [True, True, True, True, False]])\n",
    "\n",
    "    # When\n",
    "    result = check_win(mask)\n",
    "\n",
    "    # Then\n",
    "    assert result == True\n",
    "\n",
    "\n",
    "def test_check_win_when_true_column_and_true_row():\n",
    "    # Given\n",
    "    mask = np.array([[True, False, False, False, False],\n",
    "                     [True, False, False, False, False],\n",
    "                     [True, False, False, False, False],\n",
    "                     [True, False, False, False, False],\n",
    "                     [True, True, True, True, True]])\n",
    "\n",
    "    # When\n",
    "    result = check_win(mask)\n",
    "\n",
    "    # Then\n",
    "    assert result == False"
   ]
  },
  {
   "cell_type": "code",
   "execution_count": 15,
   "metadata": {},
   "outputs": [
    {
     "name": "stdout",
     "output_type": "stream",
     "text": [
      "\u001b[1m======================================= test session starts ========================================\u001b[0m\n",
      "platform darwin -- Python 3.12.8, pytest-8.3.5, pluggy-1.5.0 -- /Users/hariravindran/Documents/workstation/Advent-of-Code-2021/.venv/bin/python\n",
      "cachedir: .pytest_cache\n",
      "rootdir: /Users/hariravindran/Documents/workstation/Advent-of-Code-2021\n",
      "configfile: pyproject.toml\n",
      "\u001b[1mcollecting ... \u001b[0mcollected 1 item\n",
      "\n",
      "t_53177e9c072b4b9198ed9e361e1b5898.py::test_calculate_score \u001b[32mPASSED\u001b[0m\u001b[32m                           [100%]\u001b[0m"
     ]
    },
    {
     "name": "stdout",
     "output_type": "stream",
     "text": [
      "\n",
      "\n",
      "\u001b[32m======================================== \u001b[32m\u001b[1m1 passed\u001b[0m\u001b[32m in 0.01s\u001b[0m\u001b[32m =========================================\u001b[0m\n"
     ]
    }
   ],
   "source": [
    "%%ipytest -vv\n",
    "\n",
    "def test_calculate_score():\n",
    "    # Given\n",
    "    winning_board = np.array([[1, 2, 3],\n",
    "                               [4, 5, 6],\n",
    "                               [7, 8, 9]])\n",
    "    drawn_numbers = [1, 2, 3]\n",
    "\n",
    "    # When\n",
    "    result = calculate_score(winning_board, drawn_numbers)\n",
    "\n",
    "    # Then\n",
    "    assert result == (4 + 5 + 6 + 7 + 8 + 9) * 3"
   ]
  },
  {
   "cell_type": "code",
   "execution_count": null,
   "metadata": {},
   "outputs": [
    {
     "name": "stdout",
     "output_type": "stream",
     "text": [
      "74320\n"
     ]
    }
   ],
   "source": [
    "# Instead of using multiple loops, forcing multiple breaks, we use a single loop.\n",
    "# https://nedbatchelder.com/blog/201608/breaking_out_of_two_loops.html\n",
    "\n",
    "for i in range(1, len(bingo_list_of_numbers) + 1):\n",
    "    list_of_drawn_numbers = bingo_list_of_numbers[:i]\n",
    "    winning_board = next((board for board in bingo_boards if check_win(np.isin(board, list_of_drawn_numbers))), None)\n",
    "    if winning_board is not None:\n",
    "        winning_score = calculate_score(winning_board=winning_board, drawn_numbers=list_of_drawn_numbers)\n",
    "        print(winning_score)\n",
    "        break"
   ]
  },
  {
   "cell_type": "markdown",
   "metadata": {},
   "source": [
    "#### Part 2"
   ]
  },
  {
   "cell_type": "markdown",
   "metadata": {},
   "source": [
    "The issue here was modifying the loop above so that the first match doesn't result in a break, but instead saves the winning configuration and continues on to the next board. The change that needed to be made was that the list of boards then needed to be updated by removing the board in the winning configuration."
   ]
  },
  {
   "cell_type": "code",
   "execution_count": 73,
   "metadata": {},
   "outputs": [],
   "source": [
    "@dataclass\n",
    "class WinningConfiguration:\n",
    "    board: np.ndarray\n",
    "    drawn_numbers: list[int]\n",
    "\n",
    "\n",
    "winning_boards_and_numbers: list[WinningConfiguration] = []\n",
    "for i in range(1, len(bingo_list_of_numbers) + 1):\n",
    "    list_of_drawn_numbers = bingo_list_of_numbers[:i]\n",
    "    winning_board = next((board for board in bingo_boards if check_win(np.isin(board, list_of_drawn_numbers))), None)\n",
    "    if winning_board is not None:\n",
    "        winning_boards_and_numbers.append(WinningConfiguration(board=winning_board, drawn_numbers=list_of_drawn_numbers))\n",
    "        bingo_boards = [board for board in bingo_boards if not np.array_equal(board, winning_board)]\n",
    "        if len(bingo_boards) == 0:\n",
    "            break"
   ]
  },
  {
   "cell_type": "code",
   "execution_count": 74,
   "metadata": {},
   "outputs": [
    {
     "data": {
      "text/plain": [
       "51"
      ]
     },
     "execution_count": 74,
     "metadata": {},
     "output_type": "execute_result"
    }
   ],
   "source": [
    "len(winning_boards_and_numbers)"
   ]
  },
  {
   "cell_type": "code",
   "execution_count": 75,
   "metadata": {},
   "outputs": [
    {
     "data": {
      "text/plain": [
       "WinningConfiguration(board=array([[ 8, 34, 81, 67, 80],\n",
       "       [83, 92, 13, 11, 41],\n",
       "       [39, 89, 93, 49, 43],\n",
       "       [20, 69,  3, 74, 76],\n",
       "       [44, 72, 68, 70, 45]]), drawn_numbers=[46, 12, 57, 37, 14, 78, 31, 71, 87, 52, 64, 97, 10, 35, 54, 36, 27, 84, 80, 94, 99, 22, 0, 11, 30, 44, 86, 59, 66, 7, 90, 21, 51, 53, 92, 8, 76, 41, 39, 77, 42, 88, 29, 24, 60, 17, 68, 13, 79, 67, 50, 82, 25, 61, 20, 16, 6, 3, 81, 19, 85, 9, 28, 56, 75, 96, 2, 26, 1, 62, 33, 63, 32, 73, 18, 48, 43, 65, 98, 5, 91, 69, 47, 4, 38, 23, 49, 34])"
      ]
     },
     "execution_count": 75,
     "metadata": {},
     "output_type": "execute_result"
    }
   ],
   "source": [
    "winning_boards_and_numbers[-1]"
   ]
  },
  {
   "cell_type": "code",
   "execution_count": 76,
   "metadata": {},
   "outputs": [
    {
     "data": {
      "text/plain": [
       "np.int64(17884)"
      ]
     },
     "execution_count": 76,
     "metadata": {},
     "output_type": "execute_result"
    }
   ],
   "source": [
    "calculate_score(\n",
    "    winning_board=winning_boards_and_numbers[-1].board,\n",
    "    drawn_numbers=winning_boards_and_numbers[-1].drawn_numbers\n",
    ")"
   ]
  }
 ],
 "metadata": {
  "kernelspec": {
   "display_name": ".venv",
   "language": "python",
   "name": "python3"
  },
  "language_info": {
   "codemirror_mode": {
    "name": "ipython",
    "version": 3
   },
   "file_extension": ".py",
   "mimetype": "text/x-python",
   "name": "python",
   "nbconvert_exporter": "python",
   "pygments_lexer": "ipython3",
   "version": "3.12.8"
  }
 },
 "nbformat": 4,
 "nbformat_minor": 2
}
