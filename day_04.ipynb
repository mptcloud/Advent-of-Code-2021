{
 "cells": [
  {
   "cell_type": "code",
   "execution_count": 1,
   "metadata": {},
   "outputs": [],
   "source": [
    "from pathlib import Path"
   ]
  },
  {
   "cell_type": "code",
   "execution_count": 2,
   "metadata": {},
   "outputs": [],
   "source": [
    "data_path = Path.cwd() / 'data' / 'day4_input.txt'"
   ]
  },
  {
   "cell_type": "code",
   "execution_count": 3,
   "metadata": {},
   "outputs": [
    {
     "data": {
      "text/plain": [
       "True"
      ]
     },
     "execution_count": 3,
     "metadata": {},
     "output_type": "execute_result"
    }
   ],
   "source": [
    "data_path.exists()"
   ]
  },
  {
   "cell_type": "markdown",
   "metadata": {},
   "source": [
    "#### Part 1"
   ]
  },
  {
   "cell_type": "code",
   "execution_count": 12,
   "metadata": {},
   "outputs": [],
   "source": [
    "import numpy as np\n",
    "import re\n",
    "\n",
    "from collections.abc import Iterable\n",
    "from itertools import groupby"
   ]
  },
  {
   "cell_type": "code",
   "execution_count": 13,
   "metadata": {},
   "outputs": [],
   "source": [
    "def create_list_of_ints_from_grouped_strings(grouped_string: Iterable[str]) -> list[int]:\n",
    "    return [list(map(int, re.split(r'[,\\s]+', line.strip()))) for line in grouped_string]\n",
    "        \n",
    "\n",
    "def read_arrays_from_file(file_path: Path) -> list[np.ndarray]:\n",
    "    with open(file_path, 'r') as file:\n",
    "        lines = file.readlines()\n",
    "    \n",
    "    arrays = [\n",
    "        np.array(create_list_of_ints_from_grouped_strings(group))\n",
    "        for is_non_empty, group in groupby(lines, key=lambda x: bool(x.strip()))\n",
    "        if is_non_empty\n",
    "    ]\n",
    "    \n",
    "    return arrays"
   ]
  },
  {
   "cell_type": "code",
   "execution_count": 15,
   "metadata": {},
   "outputs": [],
   "source": [
    "bingo_list_of_numbers, *bingo_boards = read_arrays_from_file(data_path)"
   ]
  },
  {
   "cell_type": "code",
   "execution_count": 18,
   "metadata": {},
   "outputs": [
    {
     "data": {
      "text/plain": [
       "array([[46, 12, 57, 37, 14, 78, 31, 71, 87, 52, 64, 97, 10, 35, 54, 36,\n",
       "        27, 84, 80, 94, 99, 22,  0, 11, 30, 44, 86, 59, 66,  7, 90, 21,\n",
       "        51, 53, 92,  8, 76, 41, 39, 77, 42, 88, 29, 24, 60, 17, 68, 13,\n",
       "        79, 67, 50, 82, 25, 61, 20, 16,  6,  3, 81, 19, 85,  9, 28, 56,\n",
       "        75, 96,  2, 26,  1, 62, 33, 63, 32, 73, 18, 48, 43, 65, 98,  5,\n",
       "        91, 69, 47,  4, 38, 23, 49, 34, 55, 83, 93, 45, 72, 95, 40, 15,\n",
       "        58, 74, 70, 89]])"
      ]
     },
     "execution_count": 18,
     "metadata": {},
     "output_type": "execute_result"
    }
   ],
   "source": [
    "bingo_list_of_numbers"
   ]
  },
  {
   "cell_type": "code",
   "execution_count": 19,
   "metadata": {},
   "outputs": [
    {
     "data": {
      "text/plain": [
       "array([[37, 72, 60, 35, 89],\n",
       "       [32, 49,  4, 77, 82],\n",
       "       [30, 26, 27, 63, 88],\n",
       "       [29, 43, 16, 34, 58],\n",
       "       [48, 33, 96, 79, 94]])"
      ]
     },
     "execution_count": 19,
     "metadata": {},
     "output_type": "execute_result"
    }
   ],
   "source": [
    "bingo_boards[0]"
   ]
  },
  {
   "cell_type": "code",
   "execution_count": null,
   "metadata": {},
   "outputs": [],
   "source": []
  }
 ],
 "metadata": {
  "kernelspec": {
   "display_name": ".venv",
   "language": "python",
   "name": "python3"
  },
  "language_info": {
   "codemirror_mode": {
    "name": "ipython",
    "version": 3
   },
   "file_extension": ".py",
   "mimetype": "text/x-python",
   "name": "python",
   "nbconvert_exporter": "python",
   "pygments_lexer": "ipython3",
   "version": "3.12.8"
  }
 },
 "nbformat": 4,
 "nbformat_minor": 2
}
