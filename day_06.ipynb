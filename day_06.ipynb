{
 "cells": [
  {
   "cell_type": "code",
   "execution_count": 1,
   "id": "76156c1d",
   "metadata": {},
   "outputs": [],
   "source": [
    "import ipytest\n",
    "\n",
    "ipytest.autoconfig()"
   ]
  },
  {
   "cell_type": "code",
   "execution_count": 2,
   "id": "60725649",
   "metadata": {},
   "outputs": [],
   "source": [
    "from pathlib import Path"
   ]
  },
  {
   "cell_type": "code",
   "execution_count": 3,
   "id": "42452d29",
   "metadata": {},
   "outputs": [],
   "source": [
    "data_path = Path.cwd() / 'data' / 'day6_input.txt'"
   ]
  },
  {
   "cell_type": "code",
   "execution_count": 4,
   "id": "6a3b273e",
   "metadata": {},
   "outputs": [
    {
     "data": {
      "text/plain": [
       "True"
      ]
     },
     "execution_count": 4,
     "metadata": {},
     "output_type": "execute_result"
    }
   ],
   "source": [
    "data_path.exists()"
   ]
  },
  {
   "cell_type": "markdown",
   "id": "4bf805e4",
   "metadata": {},
   "source": [
    "#### Part 1"
   ]
  },
  {
   "cell_type": "code",
   "execution_count": 5,
   "id": "cb49e493",
   "metadata": {},
   "outputs": [],
   "source": [
    "import numpy as np"
   ]
  },
  {
   "cell_type": "code",
   "execution_count": 6,
   "id": "45c24d41",
   "metadata": {},
   "outputs": [],
   "source": [
    "initial_lanternfish_state_array = np.loadtxt(data_path, delimiter=',', dtype='int')"
   ]
  },
  {
   "cell_type": "code",
   "execution_count": 7,
   "id": "2db685f5",
   "metadata": {},
   "outputs": [],
   "source": [
    "def simulate_lanternfish_state(state_array, days) -> np.ndarray:\n",
    "    \"\"\"\n",
    "    Simulate the state of lanternfish population over a given number of days.\n",
    "    \n",
    "    Parameters:\n",
    "    state_array (np.ndarray): Initial state of lanternfish.\n",
    "    days (int): Number of days to simulate.\n",
    "    \n",
    "    Returns:\n",
    "    np.ndarray: Final state of lanternfish after simulation.\n",
    "    \"\"\"\n",
    "    temp_array = state_array.copy()\n",
    "    for _ in range(1, days + 1):\n",
    "        temp_array -= 1\n",
    "        if np.any(temp_array < 0):\n",
    "            number_of_new_lanternfish = len(temp_array[temp_array < 0])\n",
    "            temp_array = np.where(temp_array < 0, 6, temp_array)\n",
    "            temp_array = np.concatenate(\n",
    "                (temp_array, np.full(number_of_new_lanternfish, 8))\n",
    "            )\n",
    "    return temp_array"
   ]
  },
  {
   "cell_type": "code",
   "execution_count": 8,
   "id": "187faea1",
   "metadata": {},
   "outputs": [
    {
     "data": {
      "text/plain": [
       "349549"
      ]
     },
     "execution_count": 8,
     "metadata": {},
     "output_type": "execute_result"
    }
   ],
   "source": [
    "population_after_80_days = len(simulate_lanternfish_state(initial_lanternfish_state_array, 80))\n",
    "\n",
    "population_after_80_days"
   ]
  },
  {
   "cell_type": "markdown",
   "id": "4ba24c89",
   "metadata": {},
   "source": [
    "#### Part 2"
   ]
  },
  {
   "cell_type": "code",
   "execution_count": 9,
   "id": "ea0ef692",
   "metadata": {},
   "outputs": [],
   "source": [
    "# Calling the function above for 256 days will take a very long time, so we have to use a different approach via Peter Norvig.\n",
    "\n",
    "# population_after_256_days = len(simulate_lanternfish_state(initial_lanternfish_state_array, 256))"
   ]
  },
  {
   "cell_type": "code",
   "execution_count": null,
   "id": "4165ea6d",
   "metadata": {},
   "outputs": [],
   "source": [
    "from collections import Counter\n",
    "\n",
    "def simulate_lanternfish_population(state_array, days) -> int:\n",
    "    \"\"\"\n",
    "    Simulate the population of lanternfish over a given number of days.\n",
    "    \n",
    "    Parameters:\n",
    "    state_array (np.ndarray): Initial state of lanternfish.\n",
    "    days (int): Number of days to simulate.\n",
    "    \n",
    "    Returns:\n",
    "    int: Total population of lanternfish after simulation.\n",
    "    \"\"\"\n",
    "    fish_population_distribution = Counter(state_array)\n",
    "    for _ in range(days):\n",
    "        fish_population_distribution = Counter({k - 1: v for k, v in fish_population_distribution.items()})\n",
    "        if -1 in fish_population_distribution:\n",
    "            fish_population_distribution[8] += fish_population_distribution[-1] # Could also be just an equal sign\n",
    "            fish_population_distribution[6] += fish_population_distribution[-1]\n",
    "            del fish_population_distribution[-1]\n",
    "    return sum(fish_population_distribution.values())"
   ]
  },
  {
   "cell_type": "code",
   "execution_count": 17,
   "id": "63ad2ead",
   "metadata": {},
   "outputs": [
    {
     "data": {
      "text/plain": [
       "1589590444365"
      ]
     },
     "execution_count": 17,
     "metadata": {},
     "output_type": "execute_result"
    }
   ],
   "source": [
    "simulate_lanternfish_population(initial_lanternfish_state_array, 256)"
   ]
  }
 ],
 "metadata": {
  "kernelspec": {
   "display_name": ".venv",
   "language": "python",
   "name": "python3"
  },
  "language_info": {
   "codemirror_mode": {
    "name": "ipython",
    "version": 3
   },
   "file_extension": ".py",
   "mimetype": "text/x-python",
   "name": "python",
   "nbconvert_exporter": "python",
   "pygments_lexer": "ipython3",
   "version": "3.12.8"
  }
 },
 "nbformat": 4,
 "nbformat_minor": 5
}
