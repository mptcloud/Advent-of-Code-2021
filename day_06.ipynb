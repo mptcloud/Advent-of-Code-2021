{
 "cells": [
  {
   "cell_type": "code",
   "execution_count": 1,
   "id": "76156c1d",
   "metadata": {},
   "outputs": [],
   "source": [
    "import ipytest\n",
    "\n",
    "ipytest.autoconfig()"
   ]
  },
  {
   "cell_type": "code",
   "execution_count": 2,
   "id": "60725649",
   "metadata": {},
   "outputs": [],
   "source": [
    "from pathlib import Path"
   ]
  },
  {
   "cell_type": "code",
   "execution_count": 3,
   "id": "42452d29",
   "metadata": {},
   "outputs": [],
   "source": [
    "data_path = Path.cwd() / 'data' / 'day6_input.txt'"
   ]
  },
  {
   "cell_type": "code",
   "execution_count": 4,
   "id": "6a3b273e",
   "metadata": {},
   "outputs": [
    {
     "data": {
      "text/plain": [
       "True"
      ]
     },
     "execution_count": 4,
     "metadata": {},
     "output_type": "execute_result"
    }
   ],
   "source": [
    "data_path.exists()"
   ]
  },
  {
   "cell_type": "markdown",
   "id": "4bf805e4",
   "metadata": {},
   "source": [
    "#### Part 1"
   ]
  },
  {
   "cell_type": "code",
   "execution_count": 5,
   "id": "cb49e493",
   "metadata": {},
   "outputs": [],
   "source": [
    "import numpy as np"
   ]
  },
  {
   "cell_type": "code",
   "execution_count": 6,
   "id": "45c24d41",
   "metadata": {},
   "outputs": [],
   "source": [
    "lanternfish_state_array = np.loadtxt(data_path, delimiter=',', dtype='int')"
   ]
  },
  {
   "cell_type": "code",
   "execution_count": 50,
   "id": "187faea1",
   "metadata": {},
   "outputs": [],
   "source": [
    "for iteration_state in range(1, 81):\n",
    "    lanternfish_state_array -= 1\n",
    "    if np.any(lanternfish_state_array < 0):\n",
    "        number_of_new_lanternfish = len(lanternfish_state_array[lanternfish_state_array < 0])\n",
    "        lanternfish_state_array = np.where(lanternfish_state_array < 0, 6, lanternfish_state_array)\n",
    "        lanternfish_state_array = np.concatenate((lanternfish_state_array, np.full(number_of_new_lanternfish, 8)))"
   ]
  },
  {
   "cell_type": "code",
   "execution_count": 52,
   "id": "1d6db189",
   "metadata": {},
   "outputs": [
    {
     "data": {
      "text/plain": [
       "349549"
      ]
     },
     "execution_count": 52,
     "metadata": {},
     "output_type": "execute_result"
    }
   ],
   "source": [
    "len(lanternfish_state_array)"
   ]
  },
  {
   "cell_type": "markdown",
   "id": "4ba24c89",
   "metadata": {},
   "source": [
    "#### Part 2"
   ]
  },
  {
   "cell_type": "code",
   "execution_count": null,
   "id": "1e891b94",
   "metadata": {},
   "outputs": [
    {
     "name": "stdout",
     "output_type": "stream",
     "text": [
      "Iteration Number: 10\n",
      "Iteration Number: 20\n",
      "Iteration Number: 30\n",
      "Iteration Number: 40\n",
      "Iteration Number: 50\n",
      "Iteration Number: 60\n",
      "Iteration Number: 70\n",
      "Iteration Number: 80\n",
      "Iteration Number: 90\n",
      "Iteration Number: 100\n",
      "Iteration Number: 110\n",
      "Iteration Number: 120\n",
      "Iteration Number: 130\n",
      "Iteration Number: 140\n",
      "Iteration Number: 150\n",
      "Iteration Number: 160\n",
      "Iteration Number: 170\n",
      "Iteration Number: 180\n",
      "Iteration Number: 190\n"
     ]
    }
   ],
   "source": [
    "for iteration_state in range(1, 257):\n",
    "    if iteration_state % 10 == 0:\n",
    "        print(f'Iteration Number: {iteration_state}')\n",
    "    lanternfish_state_array -= 1\n",
    "    if np.any(lanternfish_state_array < 0):\n",
    "        number_of_new_lanternfish = len(lanternfish_state_array[lanternfish_state_array < 0])\n",
    "        lanternfish_state_array = np.where(lanternfish_state_array < 0, 6, lanternfish_state_array)\n",
    "        lanternfish_state_array = np.concatenate((lanternfish_state_array, np.full(number_of_new_lanternfish, 8)))"
   ]
  },
  {
   "cell_type": "code",
   "execution_count": null,
   "id": "4165ea6d",
   "metadata": {},
   "outputs": [],
   "source": []
  }
 ],
 "metadata": {
  "kernelspec": {
   "display_name": ".venv",
   "language": "python",
   "name": "python3"
  },
  "language_info": {
   "codemirror_mode": {
    "name": "ipython",
    "version": 3
   },
   "file_extension": ".py",
   "mimetype": "text/x-python",
   "name": "python",
   "nbconvert_exporter": "python",
   "pygments_lexer": "ipython3",
   "version": "3.12.8"
  }
 },
 "nbformat": 4,
 "nbformat_minor": 5
}
